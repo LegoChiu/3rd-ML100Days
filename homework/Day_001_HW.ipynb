{
 "cells": [
  {
   "cell_type": "code",
   "execution_count": null,
   "metadata": {},
   "outputs": [],
   "source": [
    "# work1:\n",
    "\n",
    "import numpy as np\n",
    "import matplotlib.pyplot as plt\n",
    "\n",
    "# calculate mean square error\n",
    "def mean_square_error(y,yp):\n",
    "    mse = sum((y-yp)**2)/len(y)\n",
    "    return mse\n",
    "\n",
    "w = 3\n",
    "b = 0.5\n",
    "x_lin = np.linspace(0, 100, 101)\n",
    "y = (x_lin + np.random.randn(101) * 5) * w + b\n",
    "y_hat = x_lin * w + b\n",
    "\n",
    "MSE = mean_square_error(y,y_hat)\n",
    "print('MSE = {0}\\n'.format(MSE))"
   ]
  },
  {
   "cell_type": "code",
   "execution_count": null,
   "metadata": {},
   "outputs": [],
   "source": [
    "# work2:\n",
    "\n",
    "\"\"\"\n",
    "我所選的資料：\n",
    "https://www.kaggle.com/jealousleopard/goodreadsbooks\n",
    "\n",
    "1. 這組資料為何重要：\n",
    "    推薦消費者高品質的書籍，而不是受到廠商的廣告及業配影響了選擇\n",
    "    \n",
    "2. 資料從何而來：\n",
    "    由Soumik利用Goodreads API收集提供\n",
    "\n",
    "https://www.goodreads.com/api\n",
    "\n",
    "3. 資料型態：\n",
    "    資料列表中的每筆資料由下列10個數據組成：\n",
    "    bookID: 一個唯一的識別碼\n",
    "    title: 公開的書名\n",
    "    authors: 作者名\n",
    "    average_rating: 平均評論分數\n",
    "    isbn: 11位表示的國際標準書號\n",
    "    isbn13: 13位表示的國際標準書號\n",
    "    language_code: 書本撰寫的語言\n",
    "    num_page: 書本的頁數\n",
    "    ratings_count: 書本收到的評論總分\n",
    "    text_reviews_count: 書本收到的評論總數\n",
    "    \n",
    "\n",
    "4. 想解決的問題如何評估：\n",
    "    此數據僅提供書本的評分資訊，因此若要評估推薦預測需要另外收集消費者感興趣的書籍\n",
    "    類型及所購買書籍的數據，用來歸納消費者的閱讀習慣及書籍類型，之後才能依據消費者\n",
    "    購買的書籍或感興趣的書籍類型進行優質書籍的推薦。\n",
    "    \n",
    "\"\"\"\n"
   ]
  },
  {
   "cell_type": "code",
   "execution_count": null,
   "metadata": {},
   "outputs": [],
   "source": [
    "# work3:\n",
    "\"\"\"\n",
    "載客車隊的經營，透過數據分析提升業績：\n",
    "\n",
    "1. 經營模式：假設車隊有10輛車，由總機接受客戶叫車並派車的方式運作，若乘客叫車後\n",
    "             5分鐘內無法順利搭乘，則乘客棄單\n",
    "   業績提升：以單位時間的載客趟數為主要分析問題\n",
    "\n",
    "2. 感興趣的資料：\n",
    "    由總機接單時記錄的資料：\n",
    "    接單時段、乘客上車位置、乘客目的地位置\n",
    "    由載客車回報的資料：\n",
    "    車輛移動時間、車輛當前位置\n",
    "    \n",
    "3. 資料由2.所述的5個資訊組成，記錄每天的運作，\n",
    "    接單時段：可分為12個時段，每兩小時為一個單位\n",
    "    上下車位置及車輛當前位置：簡化為GPS位置\n",
    "    車輛移動時間：以分鐘為單位進行記錄\n",
    "    \n",
    "4. 問題：如何在乘客叫車後的最短時間將車輛派至乘客上車位置\n",
    "   評估：減少乘客棄單數量即為業績提升的數量\n",
    "\"\"\"\n"
   ]
  }
 ],
 "metadata": {
  "kernelspec": {
   "display_name": "Python 3",
   "language": "python",
   "name": "python3"
  },
  "language_info": {
   "codemirror_mode": {
    "name": "ipython",
    "version": 3
   },
   "file_extension": ".py",
   "mimetype": "text/x-python",
   "name": "python",
   "nbconvert_exporter": "python",
   "pygments_lexer": "ipython3",
   "version": "3.7.3"
  }
 },
 "nbformat": 4,
 "nbformat_minor": 2
}
