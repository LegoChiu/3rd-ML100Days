{
 "cells": [
  {
   "cell_type": "markdown",
   "metadata": {},
   "source": [
    "## 練習時間\n",
    "資料的操作有很多，接下來的馬拉松中我們會介紹常被使用到的操作，參加者不妨先自行想像一下，第一次看到資料，我們一般會想知道什麼訊息？\n",
    "\n",
    "#### Ex: 如何知道資料的 row 數以及 column 數、有什麼欄位、多少欄位、如何截取部分的資料等等\n",
    "\n",
    "有了對資料的好奇之後，我們又怎麼通過程式碼來達成我們的目的呢？\n",
    "\n",
    "#### 可參考該[基礎教材](https://bookdata.readthedocs.io/en/latest/base/01_pandas.html#DataFrame-%E5%85%A5%E9%97%A8)或自行 google"
   ]
  },
  {
   "cell_type": "markdown",
   "metadata": {},
   "source": [
    "# [作業目標]\n",
    "- 熟悉更多的 Python 資料操作"
   ]
  },
  {
   "cell_type": "markdown",
   "metadata": {},
   "source": [
    "# [作業重點]\n",
    "- 列出資料的大小 (In[4], Hint : shape)\n",
    "- 列出所有欄位 (In[5], 有多種寫法)\n",
    "- 擷取部分資料 (In[6], Hint : loc 或 iloc)"
   ]
  },
  {
   "cell_type": "code",
   "execution_count": 2,
   "metadata": {},
   "outputs": [],
   "source": [
    "import os\n",
    "import numpy as np\n",
    "import pandas as pd"
   ]
  },
  {
   "cell_type": "code",
   "execution_count": 3,
   "metadata": {},
   "outputs": [],
   "source": [
    "# 設定 data_path\n",
    "dir_data = './data/'"
   ]
  },
  {
   "cell_type": "code",
   "execution_count": 4,
   "metadata": {},
   "outputs": [
    {
     "name": "stdout",
     "output_type": "stream",
     "text": [
      "Path of read in data: ./data/application_train.csv\n"
     ]
    }
   ],
   "source": [
    "f_app = os.path.join(dir_data, 'application_train.csv')\n",
    "print('Path of read in data: %s' % (f_app))\n",
    "app_train = pd.read_csv(f_app)"
   ]
  },
  {
   "cell_type": "markdown",
   "metadata": {},
   "source": [
    "### 如果沒有想法，可以先嘗試找出剛剛例子中提到的問題的答案\n",
    "#### 資料的 row 數以及 column 數"
   ]
  },
  {
   "cell_type": "code",
   "execution_count": 5,
   "metadata": {},
   "outputs": [
    {
     "data": {
      "text/plain": [
       "(307511, 122)"
      ]
     },
     "execution_count": 5,
     "metadata": {},
     "output_type": "execute_result"
    }
   ],
   "source": [
    "app_train.shape"
   ]
  },
  {
   "cell_type": "markdown",
   "metadata": {},
   "source": [
    "#### 列出所有欄位"
   ]
  },
  {
   "cell_type": "code",
   "execution_count": 6,
   "metadata": {},
   "outputs": [
    {
     "data": {
      "text/plain": [
       "Index(['SK_ID_CURR', 'TARGET', 'NAME_CONTRACT_TYPE', 'CODE_GENDER',\n",
       "       'FLAG_OWN_CAR', 'FLAG_OWN_REALTY', 'CNT_CHILDREN', 'AMT_INCOME_TOTAL',\n",
       "       'AMT_CREDIT', 'AMT_ANNUITY',\n",
       "       ...\n",
       "       'FLAG_DOCUMENT_18', 'FLAG_DOCUMENT_19', 'FLAG_DOCUMENT_20',\n",
       "       'FLAG_DOCUMENT_21', 'AMT_REQ_CREDIT_BUREAU_HOUR',\n",
       "       'AMT_REQ_CREDIT_BUREAU_DAY', 'AMT_REQ_CREDIT_BUREAU_WEEK',\n",
       "       'AMT_REQ_CREDIT_BUREAU_MON', 'AMT_REQ_CREDIT_BUREAU_QRT',\n",
       "       'AMT_REQ_CREDIT_BUREAU_YEAR'],\n",
       "      dtype='object', length=122)"
      ]
     },
     "execution_count": 6,
     "metadata": {},
     "output_type": "execute_result"
    }
   ],
   "source": [
    "app_train.columns"
   ]
  },
  {
   "cell_type": "markdown",
   "metadata": {},
   "source": [
    "#### 截取部分資料"
   ]
  },
  {
   "cell_type": "code",
   "execution_count": 9,
   "metadata": {},
   "outputs": [
    {
     "data": {
      "text/html": [
       "<div>\n",
       "<style scoped>\n",
       "    .dataframe tbody tr th:only-of-type {\n",
       "        vertical-align: middle;\n",
       "    }\n",
       "\n",
       "    .dataframe tbody tr th {\n",
       "        vertical-align: top;\n",
       "    }\n",
       "\n",
       "    .dataframe thead th {\n",
       "        text-align: right;\n",
       "    }\n",
       "</style>\n",
       "<table border=\"1\" class=\"dataframe\">\n",
       "  <thead>\n",
       "    <tr style=\"text-align: right;\">\n",
       "      <th></th>\n",
       "      <th>SK_ID_CURR</th>\n",
       "      <th>NAME_CONTRACT_TYPE</th>\n",
       "    </tr>\n",
       "  </thead>\n",
       "  <tbody>\n",
       "    <tr>\n",
       "      <th>5</th>\n",
       "      <td>100008</td>\n",
       "      <td>Cash loans</td>\n",
       "    </tr>\n",
       "    <tr>\n",
       "      <th>6</th>\n",
       "      <td>100009</td>\n",
       "      <td>Cash loans</td>\n",
       "    </tr>\n",
       "    <tr>\n",
       "      <th>7</th>\n",
       "      <td>100010</td>\n",
       "      <td>Cash loans</td>\n",
       "    </tr>\n",
       "    <tr>\n",
       "      <th>8</th>\n",
       "      <td>100011</td>\n",
       "      <td>Cash loans</td>\n",
       "    </tr>\n",
       "    <tr>\n",
       "      <th>9</th>\n",
       "      <td>100012</td>\n",
       "      <td>Revolving loans</td>\n",
       "    </tr>\n",
       "  </tbody>\n",
       "</table>\n",
       "</div>"
      ],
      "text/plain": [
       "   SK_ID_CURR NAME_CONTRACT_TYPE\n",
       "5      100008         Cash loans\n",
       "6      100009         Cash loans\n",
       "7      100010         Cash loans\n",
       "8      100011         Cash loans\n",
       "9      100012    Revolving loans"
      ]
     },
     "execution_count": 9,
     "metadata": {},
     "output_type": "execute_result"
    }
   ],
   "source": [
    "app_train[['SK_ID_CURR','NAME_CONTRACT_TYPE']][5:10]"
   ]
  },
  {
   "cell_type": "code",
   "execution_count": null,
   "metadata": {},
   "outputs": [],
   "source": [
    "df = pd.read_csv(f_app,index_col='SK_ID_CURR')"
   ]
  },
  {
   "cell_type": "code",
   "execution_count": 25,
   "metadata": {
    "scrolled": true
   },
   "outputs": [
    {
     "name": "stdout",
     "output_type": "stream",
     "text": [
      "            TARGET NAME_CONTRACT_TYPE CODE_GENDER FLAG_OWN_CAR  \\\n",
      "SK_ID_CURR                                                       \n",
      "100002           1         Cash loans           M            N   \n",
      "100003           0         Cash loans           F            N   \n",
      "100004           0    Revolving loans           M            Y   \n",
      "100006           0         Cash loans           F            N   \n",
      "100007           0         Cash loans           M            N   \n",
      "\n",
      "           FLAG_OWN_REALTY  CNT_CHILDREN  AMT_INCOME_TOTAL  AMT_CREDIT  \\\n",
      "SK_ID_CURR                                                               \n",
      "100002                   Y             0          202500.0    406597.5   \n",
      "100003                   N             0          270000.0   1293502.5   \n",
      "100004                   Y             0           67500.0    135000.0   \n",
      "100006                   Y             0          135000.0    312682.5   \n",
      "100007                   Y             0          121500.0    513000.0   \n",
      "\n",
      "            AMT_ANNUITY  AMT_GOODS_PRICE  ... FLAG_DOCUMENT_18  \\\n",
      "SK_ID_CURR                                ...                    \n",
      "100002          24700.5         351000.0  ...                0   \n",
      "100003          35698.5        1129500.0  ...                0   \n",
      "100004           6750.0         135000.0  ...                0   \n",
      "100006          29686.5         297000.0  ...                0   \n",
      "100007          21865.5         513000.0  ...                0   \n",
      "\n",
      "           FLAG_DOCUMENT_19 FLAG_DOCUMENT_20 FLAG_DOCUMENT_21  \\\n",
      "SK_ID_CURR                                                      \n",
      "100002                    0                0                0   \n",
      "100003                    0                0                0   \n",
      "100004                    0                0                0   \n",
      "100006                    0                0                0   \n",
      "100007                    0                0                0   \n",
      "\n",
      "           AMT_REQ_CREDIT_BUREAU_HOUR  AMT_REQ_CREDIT_BUREAU_DAY  \\\n",
      "SK_ID_CURR                                                         \n",
      "100002                            0.0                        0.0   \n",
      "100003                            0.0                        0.0   \n",
      "100004                            0.0                        0.0   \n",
      "100006                            NaN                        NaN   \n",
      "100007                            0.0                        0.0   \n",
      "\n",
      "            AMT_REQ_CREDIT_BUREAU_WEEK  AMT_REQ_CREDIT_BUREAU_MON  \\\n",
      "SK_ID_CURR                                                          \n",
      "100002                             0.0                        0.0   \n",
      "100003                             0.0                        0.0   \n",
      "100004                             0.0                        0.0   \n",
      "100006                             NaN                        NaN   \n",
      "100007                             0.0                        0.0   \n",
      "\n",
      "            AMT_REQ_CREDIT_BUREAU_QRT  AMT_REQ_CREDIT_BUREAU_YEAR  \n",
      "SK_ID_CURR                                                         \n",
      "100002                            0.0                         1.0  \n",
      "100003                            0.0                         0.0  \n",
      "100004                            0.0                         0.0  \n",
      "100006                            NaN                         NaN  \n",
      "100007                            0.0                         0.0  \n",
      "\n",
      "[5 rows x 121 columns]\n",
      "\n",
      "\n"
     ]
    },
    {
     "data": {
      "text/plain": [
       "TARGET                                        0\n",
       "NAME_CONTRACT_TYPE                   Cash loans\n",
       "CODE_GENDER                                   F\n",
       "FLAG_OWN_CAR                                  N\n",
       "FLAG_OWN_REALTY                               N\n",
       "CNT_CHILDREN                                  0\n",
       "AMT_INCOME_TOTAL                         270000\n",
       "AMT_CREDIT                           1.2935e+06\n",
       "AMT_ANNUITY                             35698.5\n",
       "AMT_GOODS_PRICE                      1.1295e+06\n",
       "NAME_TYPE_SUITE                          Family\n",
       "NAME_INCOME_TYPE                  State servant\n",
       "NAME_EDUCATION_TYPE            Higher education\n",
       "NAME_FAMILY_STATUS                      Married\n",
       "NAME_HOUSING_TYPE             House / apartment\n",
       "REGION_POPULATION_RELATIVE             0.003541\n",
       "DAYS_BIRTH                               -16765\n",
       "DAYS_EMPLOYED                             -1188\n",
       "DAYS_REGISTRATION                         -1186\n",
       "DAYS_ID_PUBLISH                            -291\n",
       "OWN_CAR_AGE                                 NaN\n",
       "FLAG_MOBIL                                    1\n",
       "FLAG_EMP_PHONE                                1\n",
       "FLAG_WORK_PHONE                               0\n",
       "FLAG_CONT_MOBILE                              1\n",
       "FLAG_PHONE                                    1\n",
       "FLAG_EMAIL                                    0\n",
       "OCCUPATION_TYPE                      Core staff\n",
       "CNT_FAM_MEMBERS                               2\n",
       "REGION_RATING_CLIENT                          1\n",
       "                                    ...        \n",
       "DEF_30_CNT_SOCIAL_CIRCLE                      0\n",
       "OBS_60_CNT_SOCIAL_CIRCLE                      1\n",
       "DEF_60_CNT_SOCIAL_CIRCLE                      0\n",
       "DAYS_LAST_PHONE_CHANGE                     -828\n",
       "FLAG_DOCUMENT_2                               0\n",
       "FLAG_DOCUMENT_3                               1\n",
       "FLAG_DOCUMENT_4                               0\n",
       "FLAG_DOCUMENT_5                               0\n",
       "FLAG_DOCUMENT_6                               0\n",
       "FLAG_DOCUMENT_7                               0\n",
       "FLAG_DOCUMENT_8                               0\n",
       "FLAG_DOCUMENT_9                               0\n",
       "FLAG_DOCUMENT_10                              0\n",
       "FLAG_DOCUMENT_11                              0\n",
       "FLAG_DOCUMENT_12                              0\n",
       "FLAG_DOCUMENT_13                              0\n",
       "FLAG_DOCUMENT_14                              0\n",
       "FLAG_DOCUMENT_15                              0\n",
       "FLAG_DOCUMENT_16                              0\n",
       "FLAG_DOCUMENT_17                              0\n",
       "FLAG_DOCUMENT_18                              0\n",
       "FLAG_DOCUMENT_19                              0\n",
       "FLAG_DOCUMENT_20                              0\n",
       "FLAG_DOCUMENT_21                              0\n",
       "AMT_REQ_CREDIT_BUREAU_HOUR                    0\n",
       "AMT_REQ_CREDIT_BUREAU_DAY                     0\n",
       "AMT_REQ_CREDIT_BUREAU_WEEK                    0\n",
       "AMT_REQ_CREDIT_BUREAU_MON                     0\n",
       "AMT_REQ_CREDIT_BUREAU_QRT                     0\n",
       "AMT_REQ_CREDIT_BUREAU_YEAR                    0\n",
       "Name: 100003, Length: 121, dtype: object"
      ]
     },
     "execution_count": 25,
     "metadata": {},
     "output_type": "execute_result"
    }
   ],
   "source": [
    "# loc 以index標籤取出資料\n",
    "print('{0}\\n\\n'.format(df.head()))\n",
    "df.loc[100003]"
   ]
  },
  {
   "cell_type": "code",
   "execution_count": 19,
   "metadata": {},
   "outputs": [
    {
     "data": {
      "text/plain": [
       "TARGET                                        0\n",
       "NAME_CONTRACT_TYPE                   Cash loans\n",
       "CODE_GENDER                                   F\n",
       "FLAG_OWN_CAR                                  N\n",
       "FLAG_OWN_REALTY                               N\n",
       "CNT_CHILDREN                                  0\n",
       "AMT_INCOME_TOTAL                         270000\n",
       "AMT_CREDIT                           1.2935e+06\n",
       "AMT_ANNUITY                             35698.5\n",
       "AMT_GOODS_PRICE                      1.1295e+06\n",
       "NAME_TYPE_SUITE                          Family\n",
       "NAME_INCOME_TYPE                  State servant\n",
       "NAME_EDUCATION_TYPE            Higher education\n",
       "NAME_FAMILY_STATUS                      Married\n",
       "NAME_HOUSING_TYPE             House / apartment\n",
       "REGION_POPULATION_RELATIVE             0.003541\n",
       "DAYS_BIRTH                               -16765\n",
       "DAYS_EMPLOYED                             -1188\n",
       "DAYS_REGISTRATION                         -1186\n",
       "DAYS_ID_PUBLISH                            -291\n",
       "OWN_CAR_AGE                                 NaN\n",
       "FLAG_MOBIL                                    1\n",
       "FLAG_EMP_PHONE                                1\n",
       "FLAG_WORK_PHONE                               0\n",
       "FLAG_CONT_MOBILE                              1\n",
       "FLAG_PHONE                                    1\n",
       "FLAG_EMAIL                                    0\n",
       "OCCUPATION_TYPE                      Core staff\n",
       "CNT_FAM_MEMBERS                               2\n",
       "REGION_RATING_CLIENT                          1\n",
       "                                    ...        \n",
       "DEF_30_CNT_SOCIAL_CIRCLE                      0\n",
       "OBS_60_CNT_SOCIAL_CIRCLE                      1\n",
       "DEF_60_CNT_SOCIAL_CIRCLE                      0\n",
       "DAYS_LAST_PHONE_CHANGE                     -828\n",
       "FLAG_DOCUMENT_2                               0\n",
       "FLAG_DOCUMENT_3                               1\n",
       "FLAG_DOCUMENT_4                               0\n",
       "FLAG_DOCUMENT_5                               0\n",
       "FLAG_DOCUMENT_6                               0\n",
       "FLAG_DOCUMENT_7                               0\n",
       "FLAG_DOCUMENT_8                               0\n",
       "FLAG_DOCUMENT_9                               0\n",
       "FLAG_DOCUMENT_10                              0\n",
       "FLAG_DOCUMENT_11                              0\n",
       "FLAG_DOCUMENT_12                              0\n",
       "FLAG_DOCUMENT_13                              0\n",
       "FLAG_DOCUMENT_14                              0\n",
       "FLAG_DOCUMENT_15                              0\n",
       "FLAG_DOCUMENT_16                              0\n",
       "FLAG_DOCUMENT_17                              0\n",
       "FLAG_DOCUMENT_18                              0\n",
       "FLAG_DOCUMENT_19                              0\n",
       "FLAG_DOCUMENT_20                              0\n",
       "FLAG_DOCUMENT_21                              0\n",
       "AMT_REQ_CREDIT_BUREAU_HOUR                    0\n",
       "AMT_REQ_CREDIT_BUREAU_DAY                     0\n",
       "AMT_REQ_CREDIT_BUREAU_WEEK                    0\n",
       "AMT_REQ_CREDIT_BUREAU_MON                     0\n",
       "AMT_REQ_CREDIT_BUREAU_QRT                     0\n",
       "AMT_REQ_CREDIT_BUREAU_YEAR                    0\n",
       "Name: 100003, Length: 121, dtype: object"
      ]
     },
     "execution_count": 19,
     "metadata": {},
     "output_type": "execute_result"
    }
   ],
   "source": [
    "# iloc 以index位置取出資料\n",
    "df.iloc[1]"
   ]
  },
  {
   "cell_type": "markdown",
   "metadata": {},
   "source": [
    "#### 還有各種數之不盡的資料操作，重點還是取決於實務中遇到的狀況和你想問的問題，在馬拉松中我們也會陸續提到更多例子"
   ]
  },
  {
   "cell_type": "code",
   "execution_count": null,
   "metadata": {
    "collapsed": true
   },
   "outputs": [],
   "source": []
  }
 ],
 "metadata": {
  "kernelspec": {
   "display_name": "Python 3",
   "language": "python",
   "name": "python3"
  },
  "language_info": {
   "codemirror_mode": {
    "name": "ipython",
    "version": 3
   },
   "file_extension": ".py",
   "mimetype": "text/x-python",
   "name": "python",
   "nbconvert_exporter": "python",
   "pygments_lexer": "ipython3",
   "version": "3.7.3"
  }
 },
 "nbformat": 4,
 "nbformat_minor": 2
}
